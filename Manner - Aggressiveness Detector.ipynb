{
 "cells": [
  {
   "cell_type": "code",
   "execution_count": 1,
   "id": "0c0b7b83",
   "metadata": {},
   "outputs": [
    {
     "name": "stderr",
     "output_type": "stream",
     "text": [
      "/opt/homebrew/lib/python3.9/site-packages/tqdm/auto.py:21: TqdmWarning: IProgress not found. Please update jupyter and ipywidgets. See https://ipywidgets.readthedocs.io/en/stable/user_install.html\n",
      "  from .autonotebook import tqdm as notebook_tqdm\n"
     ]
    }
   ],
   "source": [
    "from transformers import AutoModel, AutoTokenizer, AutoModelForSequenceClassification\n",
    "import torch\n",
    "from pathlib import Path\n",
    "from scipy.special import softmax\n",
    "import numpy as np\n",
    "import pandas as pd\n",
    "\n",
    "TASK_LABEL_IDS = {\n",
    "    \"Sub-task A\": [\"OAG\", \"NAG\", \"CAG\"],\n",
    "    \"Sub-task B\": [\"GEN\", \"NGEN\"],\n",
    "    \"Sub-task C\": [\"OAG-GEN\", \"OAG-NGEN\", \"NAG-GEN\", \"NAG-NGEN\", \"CAG-GEN\", \"CAG-NGEN\"]\n",
    "}\n",
    "\n",
    "task = 'Sub-task A'\n",
    "\n",
    "model_version=\"X\" #databank: modello preso dal loro sito; altro: modello da HF\n",
    "\n",
    "if model_version == \"databank\": #<-- questa opzione non va... prova anche tu. \n",
    "    # Devi scaricare il modello seguendo le istruzioni sotto. Noi siamo task A, ENG\n",
    "    # Make sure you have downloaded the required model file from https://databank.illinois.edu/datasets/IDB-8882752\n",
    "    # Unzip the file at some model_path (we are using: \"databank_model\")\n",
    "    model_path = next(Path(\"databank_model\").glob(\"./*/output/*/model\"))\n",
    "    # Assuming you get the following type of structure inside \"databank_model\"\n",
    "    # 'databank_model/ALL/Sub-task C/output/bert-base-multilingual-uncased/model'\n",
    "    lang, task, _, base_model, _ = model_path.parts\n",
    "    tokenizer = AutoTokenizer.from_pretrained(base_model)\n",
    "    model = AutoModelForSequenceClassification.from_pretrained(model_path)\n",
    "    \n",
    "else: #funziona tutto OK\n",
    "    lang, task, base_model = \"ENG\", \"Sub-task A\", \"bert-base-uncased\"\n",
    "    base_model = f\"socialmediaie/TRAC2020_{lang}_{task.split()[-1]}_{base_model}\"\n",
    "    tokenizer = AutoTokenizer.from_pretrained(base_model)\n",
    "    model = AutoModelForSequenceClassification.from_pretrained(base_model)\n",
    "\n",
    "# For doing inference set model in eval mode\n",
    "model.eval()\n",
    "# If you want to further fine-tune the model you can reset the model to model.train()\n",
    "\n",
    "task_labels = TASK_LABEL_IDS[task]\n",
    "\n"
   ]
  },
  {
   "cell_type": "code",
   "execution_count": 2,
   "id": "5c3625cb",
   "metadata": {},
   "outputs": [],
   "source": [
    "def get_NAG(sentence):\n",
    "    processed_sentence = f\"{tokenizer.cls_token} {sentence}\"\n",
    "    tokens = tokenizer.tokenize(sentence)\n",
    "    indexed_tokens = tokenizer.convert_tokens_to_ids(tokens)\n",
    "    tokens_tensor = torch.tensor([indexed_tokens])\n",
    "\n",
    "    with torch.no_grad():\n",
    "        #logits, = model(tokens_tensor, labels=None)\n",
    "        logits = model(tokens_tensor, labels=None) #<<- prova anche a commentare questo e de-commentare sopra + v.sotto\n",
    "    logits\n",
    "\n",
    "\n",
    "    #preds = logits.detach().cpu().numpy() #<- decommentare\n",
    "    preds = logits[0] #<- commentare\n",
    "    preds_probs = softmax(preds, axis=1)\n",
    "    trust_score = preds_probs[0][1]\n",
    "    #preds = np.argmax(preds_probs, axis=1) # <- decommenta, idem sotto\n",
    "    #preds_labels = np.array(task_labels)[preds]\n",
    "    \n",
    "    return trust_score\n"
   ]
  },
  {
   "cell_type": "code",
   "execution_count": 3,
   "id": "92060777",
   "metadata": {},
   "outputs": [
    {
     "data": {
      "text/plain": [
       "0.92768884"
      ]
     },
     "execution_count": 3,
     "metadata": {},
     "output_type": "execute_result"
    }
   ],
   "source": [
    "get_NAG('I feel you\\'ve been rude. I don\\'t want to see you again')"
   ]
  },
  {
   "cell_type": "code",
   "execution_count": 4,
   "id": "60a141ad",
   "metadata": {},
   "outputs": [
    {
     "data": {
      "text/plain": [
       "0.028387599"
      ]
     },
     "execution_count": 4,
     "metadata": {},
     "output_type": "execute_result"
    }
   ],
   "source": [
    "get_NAG('You are rude. Go away from me!!')"
   ]
  },
  {
   "cell_type": "code",
   "execution_count": 5,
   "id": "f70dda38",
   "metadata": {},
   "outputs": [],
   "source": [
    "df = pd.read_csv('QA.csv')"
   ]
  },
  {
   "cell_type": "code",
   "execution_count": 6,
   "id": "a6bb7589",
   "metadata": {},
   "outputs": [
    {
     "name": "stderr",
     "output_type": "stream",
     "text": [
      "Token indices sequence length is longer than the specified maximum sequence length for this model (515 > 512). Running this sequence through the model will result in indexing errors\n"
     ]
    }
   ],
   "source": [
    "i_scores = []\n",
    "r_scores = []\n",
    "\n",
    "insts = df.instruction.tolist()\n",
    "resps = df.response.tolist()\n",
    "\n",
    "\n",
    "for i in range(len(df)):\n",
    "    inst = insts[i]\n",
    "    resp = resps[i]\n",
    "    \n",
    "    try:\n",
    "        i_score = get_NAG(inst)\n",
    "    except:\n",
    "        i_score = 999\n",
    "    \n",
    "    try:\n",
    "        r_score = get_NAG(resp)\n",
    "    except:\n",
    "        r_score = 999   \n",
    "    \n",
    "    i_scores.append(i_score)\n",
    "    r_scores.append(r_score)\n",
    "\n",
    "df['inst_trust'] = i_scores\n",
    "df['resp_trust'] = r_scores"
   ]
  },
  {
   "cell_type": "code",
   "execution_count": null,
   "id": "54789778",
   "metadata": {},
   "outputs": [],
   "source": []
  },
  {
   "cell_type": "code",
   "execution_count": 16,
   "id": "23f1d977",
   "metadata": {},
   "outputs": [
    {
     "data": {
      "text/plain": [
       "['Steve Urkel',\n",
       " 'Atlantic Ocean\\nArctic Ocean\\nPacific Ocean\\nIndian Ocean',\n",
       " 'Mississippi and Missouri rivers',\n",
       " 'Stark, Lannister, Baratheon, Tyrell, Arryn, Martell, Karstark, Mormont.',\n",
       " 'A fixed asset is one which is intended to be used for several years. Examples are buildings,\\nmachinery and vehicles.',\n",
       " '8 marriages',\n",
       " 'The X-Files, The Crown, Sex Education, Hannibal, The Fall, The First Lady, The Great',\n",
       " 'The Mississippi River',\n",
       " 'Andrew Jackson',\n",
       " 'Some well known classical composers are Mozart, Bach and Beethoven',\n",
       " 'Jeopardy!',\n",
       " 'Tom Brady',\n",
       " 'Katy Perry.',\n",
       " 'Saw woman in half',\n",
       " '1990',\n",
       " 'Sanya Richards-Ross, Marlo Hampton, Drew Sidora, Kenya Moore and Shereé Whitfield',\n",
       " 'Maldon Massey',\n",
       " 'Charles III',\n",
       " \"Lilith is a figure who appears in both Mesopotamian and Judaic mythology and is purported to be Adam's first wife. She was banished from the Garden of Eden for not being subservient and obeying him.\",\n",
       " 'Tortola, Anegada, Virgin Gorda, and Jost Van Dyke',\n",
       " 'Stephen Curry',\n",
       " 'The bush kangaroo',\n",
       " 'The Oregon Trail',\n",
       " 'Sigorn, son of Styr',\n",
       " 'Walton Towers',\n",
       " 'The Beastie Boys',\n",
       " 'Anthrax, Metallica, Megadeth, and Slayer',\n",
       " 'Jennifer Jones, Barbara Stanwyck, Greer Garson, Humphrey Bogart, Bette Davis, Bob Hope, Gregory Peck, David Niven, Victor Mature, James Cagney, Betty Grable, Judy Garland, Janet Leigh, Spencer Tracy.',\n",
       " 'Douglas Stuart',\n",
       " \"Cockney rhyming slang is a slang language originating from the East End in London, United Kingdom. It has a simple structure where a rhyming word or phrase is used in substitution of the word's true meaning. Examples:\\n\\nApples and pears = stairs\\nAdam and Eve = believe\\nBarnaby Rudge = judge\\nBees and Honey = money\\nDog and Bone = Phone\\nHank Marvin = starving\\nLady Godiva = fiver\",\n",
       " 'Julius Cesar',\n",
       " 'Anila Sajja, Dr. Contessa Metcalfe, Dr. Heavenly Kimes, Dr. Jacqueline Walters, Dr. Simone Whitmore, Toya Bush-Harris and Quad Webb',\n",
       " '39 members',\n",
       " 'AFC Bournemouth, Arsenal, Aston Villa, Brentford, Brighton & Hove Albion, Chelsea, Crystal Palace, Everton, Fulham, Leeds United, Leicester City, Liverpool, Manchester City, Manchester United, Newcastle United, Nottingham Forest, Southampton, Tottenham Hotspur, West Ham United, Wolverhampton Wanderers',\n",
       " 'Patty & Selma',\n",
       " 'Some famous Sci-Fi movies are Star Wars, 2001: A Space Odyssey and Blade Runner',\n",
       " 'The Pickwick Papers',\n",
       " '2500 years',\n",
       " '* War and Peace, Leo Tolstoy.\\n* Crime and Punishment, Fyodor Dostoevsky.\\n* Evgenyi Onegin, Alexander Pushkin.\\n* Dead Souls, Nikolay Gogol.\\n* Woe from Wit,Alexander Griboedov.\\n* The Master and Margarita, Mikhail Bulgakov.\\n* Oblomov, Ivan Goncharov.',\n",
       " 'None, all are flawed.',\n",
       " \"The Wars to Come, The House of Black and White, High Sparrow, Sons of the Harpy, Kill the Boy, Unbent, Unbowed, Unbroken, The Gift, Hardhome, The Dance of Dragons, Mother's Mercy\",\n",
       " 'Mickey Mouse',\n",
       " 'Aegon Targaryen',\n",
       " \"Shakespeare's works were originally divided into three main styles or genres: Comedies, Tragedies and Histories.\",\n",
       " 'Pride and Prejudice.',\n",
       " 'F',\n",
       " \"Meditations by Marcus Aurelius.\\nMan's Search for Meaning by Viktor Frankl.\\nThe Story of Philosophy by Will Durant.\\nThe Republic by Plato.\\nDiscourses by Epictetus.\",\n",
       " 'Seattle Storm',\n",
       " \"Felix Gaeta, Helena Cain, Saul Tigh, Karl Agathon, D'Anna Biers, Galen Tyrol, Anastasia Dualla, Sherman Cottle, Cally Tyrol\",\n",
       " 'Windsor Castle',\n",
       " 'Snake plant, Pothos Plant, ZZ Plant, Philodendron, Succulents',\n",
       " 'Buffalo Bills, Minnesota Vikings, Cincinnati Bengals, Atlanta Falcons, Carolina Panthers, Houston/Tennessee/Oilers/Titans, San Diego/Los Angeles Chargers, St. Louis/Phoenix/Arizona Cardinals',\n",
       " 'length * base * height',\n",
       " 'Austen Kroll, Craig Conover, Kathryn Dennis, Leva Bonaparte, Madison LeCroy, Marcie Hobbs, Naomie Olindo, Olivia Flowers, Patricia Altschul, Shep Rose, Taylor Ann Green and Venita Aspen',\n",
       " 'Divergent, Allegiant, Insurgent, Carve the Mark, Chosen Ones',\n",
       " 'Jesus lived 33 years and a half before he was crucified.',\n",
       " 'Caroline Brooks, Caroline Stanbury, Chanel Ayan, Dr. Sara Al Madani, Lesa Milan Hall and Nina Ali',\n",
       " 'Amanda Batula, Andrea Denver, Carl Radke, Ciara Miller, Danielle Olivera, Kyle Cooke, Lindsay Hubbard, Luke Gulbranson, Mya Allen and Paige DeSorbo',\n",
       " '7.5 Trillion',\n",
       " \"Perfect Strangers, Three's Company, Cheers, Seinfeld, Mash, Small Wonder, Family Matters, Full House, The Montel Williams Show, Oprah, Sally Jesse Raphael, Dynasty, General Hospital\",\n",
       " 'Red, White, & Royal Blue, The Seven Husbands of Evelyn Hugo, The Song of Achilles, Heartstopper, Boyfriend Material',\n",
       " 'Here is a list of some famous hindi actresses  - Priyanka Chopra, Aishwarya Rai, Deepika Padukone, Alia Bhatt, Anushka Sharma and Katrina Kaif',\n",
       " 'Sex and Vanity, Crazy Rich Asians, China Rich Girlfriend, Rich People Problems, Luck: The Essential Guide',\n",
       " 'Alex Morgan',\n",
       " 'Ms.Draupadi Murmu',\n",
       " 'The Peacock',\n",
       " 'Mystery of Edwin\\nDrood',\n",
       " 'John C. Reilly',\n",
       " '1. Pride and Prejudice by\\xa0Jane Austen\\n2. Jane Eyre by\\xa0Charlotte Brontë\\n3. The Picture of Dorian Gray by\\xa0Oscar Wilde\\n4. Wuthering Heights by\\xa0Emily Brontë\\n5. Crime and Punishment by\\xa0Fyodor Dostoevsky',\n",
       " 'Maggie',\n",
       " 'Christopher Columbus',\n",
       " 'Galileo.',\n",
       " 'Some of famous Bollywood actors are Shah Rukh Khan, Salman Khan, Amitabh Bachchan, Aamir Khan etc.',\n",
       " 'Here is a list of some famous hindi actors - Shahrukh Khan, Salman Khan, Amitabh Bachhan, Amir Khan, Varun Dhawan, Vicky Kaushal and Ranbir Kapoor',\n",
       " 'Yusuf Meherally',\n",
       " 'Shuggie Bain',\n",
       " 'Dana Scully, Marita Covarrubias, Melissa Scully, Margaret Scully, Leyla Harrison, Teena Mulder, Samantha Mulder, Diana Fowley, Monica Reyes, Cassandra Spender',\n",
       " 'Beyonce.',\n",
       " 'They bartered/traded.',\n",
       " \"Meditations by Marcus Aurelius.\\nMan's Search for Meaning by Viktor Frankl.\\nThe Daily Stoic by Ryan Holiday.\\nThe Story of Philosophy by Will Durant.\\nThe Republic by Plato.\\nDiscourses by Epictetus.\\nThe Last Lecture by Randy Pausch.\\nLetters from a Stoic by Seneca.\",\n",
       " 'Augustus Caesar',\n",
       " 'Kristy Thomas, Mary Anne Spier, Claudia Kishi, and Stacey McGill',\n",
       " '1967',\n",
       " 'New York Yankees, St. Louis Cardinals, Oakland Athletics, Boston Red Sox, San Francisco Giants',\n",
       " 'Ferruchio Lamborghini',\n",
       " 'Shirley Temple, Bette Davis, Clark Gable, Cary Grant, Lionel Barrymore, Marlene Dietrich, Errol Flynn, Greta Garbo, Katharine Hepburn, Fred Astaire, Barbara Stanwyck, Joan Crawford, Ginger Rogers, Gary Cooper, Carole Lombard, John Gilbert.',\n",
       " 'Crystal Kung Minkoff, Dorit Kemsley, Erika Jayne, Lisa Rinna, Garcelle Beauvais, Kyle Richards, Sutton Stracke and Kathy Hilton',\n",
       " 'Germany',\n",
       " 'Dolores Catania, Jackie Goldschneider, Jennifer Aydin, Margaret Josephs, Melissa Gorga and Teresa Giudice',\n",
       " 'Ser Alester Tyrell',\n",
       " 'Alcohol strength']"
      ]
     },
     "execution_count": 16,
     "metadata": {},
     "output_type": "execute_result"
    }
   ],
   "source": [
    "df[df['resp_trust']<0.5]['response'].to_list()"
   ]
  },
  {
   "cell_type": "code",
   "execution_count": null,
   "id": "540078d6",
   "metadata": {},
   "outputs": [],
   "source": []
  }
 ],
 "metadata": {
  "kernelspec": {
   "display_name": "Python 3 (ipykernel)",
   "language": "python",
   "name": "python3"
  },
  "language_info": {
   "codemirror_mode": {
    "name": "ipython",
    "version": 3
   },
   "file_extension": ".py",
   "mimetype": "text/x-python",
   "name": "python",
   "nbconvert_exporter": "python",
   "pygments_lexer": "ipython3",
   "version": "3.9.18"
  }
 },
 "nbformat": 4,
 "nbformat_minor": 5
}

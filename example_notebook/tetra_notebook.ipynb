{
 "cells": [
  {
   "cell_type": "code",
   "execution_count": 1,
   "id": "bbd78cfe",
   "metadata": {},
   "outputs": [],
   "source": [
    "import warnings\n",
    "warnings.filterwarnings(\"ignore\")"
   ]
  },
  {
   "cell_type": "code",
   "execution_count": 2,
   "id": "998cef8b",
   "metadata": {},
   "outputs": [],
   "source": [
    "from tetra.trust_main import Trust"
   ]
  },
  {
   "cell_type": "code",
   "execution_count": 12,
   "id": "8de9bd3f",
   "metadata": {},
   "outputs": [],
   "source": [
    "trust_analyzer = Trust('<insert-your-google-key')"
   ]
  },
  {
   "cell_type": "code",
   "execution_count": 13,
   "id": "ee116c62",
   "metadata": {},
   "outputs": [
    {
     "name": "stdout",
     "output_type": "stream",
     "text": [
      "Similarity 0.34108641743659973\n",
      "Quantity 0.2857142857142857\n",
      "Manner 0.99932289124\n"
     ]
    }
   ],
   "source": [
    "scores = trust_analyzer.get_trust(\n",
    "    \"This is the main comment, of which we are analyzing the trust.\",\n",
    "    \"And this is the comment it is responding to. For example, it could be a question.\"\n",
    ")\n",
    "\n",
    "for maxim, score in zip(['Similarity', 'Quantity', 'Manner'], scores):\n",
    "    print (maxim, score)"
   ]
  },
  {
   "cell_type": "code",
   "execution_count": 15,
   "id": "a857679e",
   "metadata": {},
   "outputs": [
    {
     "name": "stdout",
     "output_type": "stream",
     "text": [
      "Similarity 0.8721028566360474\n",
      "Quantity 0.5\n",
      "Manner 0.9980926514\n"
     ]
    }
   ],
   "source": [
    "scores = trust_analyzer.get_trust(\n",
    "    \"Neil Armstrong was the first man on the moon.\",\n",
    "    \"Who was the first man on the moon?\"\n",
    ")\n",
    "\n",
    "for maxim, score in zip(['Similarity', 'Quantity', 'Manner'], scores):\n",
    "    print (maxim, score)"
   ]
  },
  {
   "cell_type": "code",
   "execution_count": 16,
   "id": "f6b1bbf3",
   "metadata": {},
   "outputs": [
    {
     "name": "stdout",
     "output_type": "stream",
     "text": [
      "Similarity None\n",
      "Quantity 0.4722222222222222\n",
      "Manner 0.9980926514\n"
     ]
    }
   ],
   "source": [
    "#Manner is also computed on a single comment. Similarity is not\n",
    "scores = trust_analyzer.get_trust(\n",
    "    \"Neil Armstrong was the first man on the moon.\",\n",
    ")\n",
    "for maxim, score in zip(['Similarity', 'Quantity', 'Manner'], scores):\n",
    "    print (maxim, score)"
   ]
  },
  {
   "cell_type": "code",
   "execution_count": 17,
   "id": "ed0667e6",
   "metadata": {},
   "outputs": [
    {
     "name": "stdout",
     "output_type": "stream",
     "text": [
      "Similarity None\n",
      "Quantity 0.25\n",
      "Manner 0.83039683\n"
     ]
    }
   ],
   "source": [
    "scores= trust_analyzer.get_trust(\n",
    "    \"You are an idiot\",\n",
    ")\n",
    "for maxim, score in zip(['Similarity', 'Quantity', 'Manner'], scores):\n",
    "    print (maxim, score)"
   ]
  },
  {
   "cell_type": "code",
   "execution_count": 10,
   "id": "663a8be4",
   "metadata": {},
   "outputs": [
    {
     "data": {
      "text/plain": [
       "[None, 0.25, 0.09546129999999997]"
      ]
     },
     "execution_count": 10,
     "metadata": {},
     "output_type": "execute_result"
    }
   ],
   "source": [
    "#The MODE for manner can be changed\n",
    "scores = trust_analyzer.get_trust(\n",
    "    \"You are an idiot\",\n",
    "    mode = 'INSULT'\n",
    ")\n",
    "\n",
    "for maxim, score in zip(['Similarity', 'Quantity', 'Manner'], scores):\n",
    "    print (maxim, score)"
   ]
  },
  {
   "cell_type": "code",
   "execution_count": 18,
   "id": "bd3c8720",
   "metadata": {},
   "outputs": [
    {
     "name": "stdout",
     "output_type": "stream",
     "text": [
      "Similarity None\n",
      "Quantity 0.25\n",
      "Manner None\n"
     ]
    }
   ],
   "source": [
    "trust_analyzer = Trust()\n",
    "#if no key\n",
    "scores = trust_analyzer.get_trust(\n",
    "    \"You are an idiot\",\n",
    "    mode = 'INSULT'\n",
    ")\n",
    "\n",
    "for maxim, score in zip(['Similarity', 'Quantity', 'Manner'], scores):\n",
    "    print (maxim, score)"
   ]
  }
 ],
 "metadata": {
  "kernelspec": {
   "display_name": "Python 3 (ipykernel)",
   "language": "python",
   "name": "python3"
  },
  "language_info": {
   "codemirror_mode": {
    "name": "ipython",
    "version": 3
   },
   "file_extension": ".py",
   "mimetype": "text/x-python",
   "name": "python",
   "nbconvert_exporter": "python",
   "pygments_lexer": "ipython3",
   "version": "3.11.2"
  }
 },
 "nbformat": 4,
 "nbformat_minor": 5
}
